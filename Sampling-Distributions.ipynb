{
  "nbformat": 4,
  "nbformat_minor": 0,
  "metadata": {
    "colab": {
      "provenance": [],
      "include_colab_link": true
    },
    "kernelspec": {
      "name": "ir",
      "display_name": "R"
    },
    "language_info": {
      "name": "R"
    }
  },
  "cells": [
    {
      "cell_type": "markdown",
      "metadata": {
        "id": "view-in-github",
        "colab_type": "text"
      },
      "source": [
        "<a href=\"https://colab.research.google.com/github/h0w4rds/brief-analysis/blob/main/Sampling-Distributions.ipynb\" target=\"_parent\"><img src=\"https://colab.research.google.com/assets/colab-badge.svg\" alt=\"Open In Colab\"/></a>"
      ]
    },
    {
      "cell_type": "markdown",
      "source": [
        "## **In Class Exercise #2**"
      ],
      "metadata": {
        "id": "UrvQ3RHv_bSm"
      }
    },
    {
      "cell_type": "markdown",
      "source": [
        "In this exercise we will review two-sided hypothesis tests and confidence intervals for means. As a warm up, we will discusss sampling distributions."
      ],
      "metadata": {
        "id": "Tzcx2aXMAfeE"
      }
    },
    {
      "cell_type": "markdown",
      "source": [
        "# **Sampling Distributions**"
      ],
      "metadata": {
        "id": "Tm2Ps7GrBdDh"
      }
    },
    {
      "cell_type": "markdown",
      "source": [
        "Recall that all inference in statstics is based on repeated sampling.  In other words, if I repeat a test over and over again, how likely would I be to observe the outcome?  Note that when I say \"repeat a test\" I mean take a new sample + perform the test.  The changes in the test results come from the fact that I take a new sample on each repeat."
      ],
      "metadata": {
        "id": "uSqC8a5aA7VF"
      }
    },
    {
      "cell_type": "markdown",
      "source": [
        "Humor me a bit.  Let's experiment with this.  Let's all take a random sample of $n=50$ from a normal distribution with a mean of 5 and a standard deviation of 1. "
      ],
      "metadata": {
        "id": "OkF99hxsBtRq"
      }
    },
    {
      "cell_type": "code",
      "source": [
        "sample<-rnorm(50,5,1)"
      ],
      "metadata": {
        "id": "aRaXJ8PhB7Rf"
      },
      "execution_count": null,
      "outputs": []
    },
    {
      "cell_type": "markdown",
      "source": [
        "Let's graph our sample."
      ],
      "metadata": {
        "id": "gbNeIQHxCwGs"
      }
    },
    {
      "cell_type": "code",
      "source": [
        "hist(sample, xlim = c(1,10))"
      ],
      "metadata": {
        "colab": {
          "base_uri": "https://localhost:8080/",
          "height": 437
        },
        "id": "S4R6V8OYCzpb",
        "outputId": "083d61b9-a257-4bde-e228-1c4aed253c3f"
      },
      "execution_count": null,
      "outputs": [
        {
          "output_type": "display_data",
          "data": {
            "text/plain": [
              "Plot with title “Histogram of sample”"
            ],
            "image/png": "[encoded data removed]"
          },
          "metadata": {
            "image/png": {
              "width": 420,
              "height": 420
            }
          }
        }
      ]
    },
    {
      "cell_type": "markdown",
      "source": [
        "Then let's find the mean and standard deviation of your sample. Does yours match mine? How come the sample mean $\\bar{x}$ isn't exactly equal to 5, the true mean, $\\mu$? What about $s$ in relation to $\\sigma$?"
      ],
      "metadata": {
        "id": "bP7DNAc9ChEG"
      }
    },
    {
      "cell_type": "code",
      "source": [
        "mean(sample)\n",
        "sd(sample)"
      ],
      "metadata": {
        "colab": {
          "base_uri": "https://localhost:8080/",
          "height": 52
        },
        "id": "5HugMikmCkue",
        "outputId": "077f5988-c49c-4817-9c62-999f78150771"
      },
      "execution_count": null,
      "outputs": [
        {
          "output_type": "display_data",
          "data": {
            "text/html": [
              "5.04671543325285"
            ],
            "text/markdown": "5.04671543325285",
            "text/latex": "5.04671543325285",
            "text/plain": [
              "[1] 5.046715"
            ]
          },
          "metadata": {}
        },
        {
          "output_type": "display_data",
          "data": {
            "text/html": [
              "1.01150995930477"
            ],
            "text/markdown": "1.01150995930477",
            "text/latex": "1.01150995930477",
            "text/plain": [
              "[1] 1.01151"
            ]
          },
          "metadata": {}
        }
      ]
    },
    {
      "cell_type": "markdown",
      "source": [
        "Why don't we simulate the sampling distribution of the sample mean for this example?  Recall a sampling distribution describes how a sample statistic behaves.  For the sample mean, we can derive it mathematically, but for any sample statistic we can simulate it."
      ],
      "metadata": {
        "id": "dHoSudmNESmR"
      }
    },
    {
      "cell_type": "code",
      "source": [
        "set.seed(13) # all use same sample\n",
        "means<-c()\n",
        "for (i in 1:500) {\n",
        "samples<-rnorm(50,5,1)\n",
        "means[i]<-mean(samples)\n",
        "}\n",
        "hist(means, xlim=c(1,10))"
      ],
      "metadata": {
        "colab": {
          "base_uri": "https://localhost:8080/",
          "height": 437
        },
        "id": "7-SOLecaFO__",
        "outputId": "326daa6e-d394-4be4-8b7a-5ae9ca75d590"
      },
      "execution_count": null,
      "outputs": [
        {
          "output_type": "display_data",
          "data": {
            "text/plain": [
              "Plot with title “Histogram of means”"
            ],
            "image/png": "[encoded data removed]"
          },
          "metadata": {
            "image/png": {
              "width": 420,
              "height": 420
            }
          }
        }
      ]
    },
    {
      "cell_type": "markdown",
      "source": [
        "Well that looks different.  Describe in your own words what we just did there."
      ],
      "metadata": {
        "id": "3krbEprXF_zv"
      }
    },
    {
      "cell_type": "markdown",
      "source": [
        "Calculate the mean of that sampling distribution.  Is this what you expected?"
      ],
      "metadata": {
        "id": "qgZ6NRZkGG_N"
      }
    },
    {
      "cell_type": "code",
      "source": [
        "mean(means)"
      ],
      "metadata": {
        "colab": {
          "base_uri": "https://localhost:8080/",
          "height": 34
        },
        "id": "UaGE55KlGLp0",
        "outputId": "4d3adb07-9e88-4441-99e8-34d44fbb75ab"
      },
      "execution_count": null,
      "outputs": [
        {
          "output_type": "display_data",
          "data": {
            "text/html": [
              "5.0042226160317"
            ],
            "text/markdown": "5.0042226160317",
            "text/latex": "5.0042226160317",
            "text/plain": [
              "[1] 5.004223"
            ]
          },
          "metadata": {}
        }
      ]
    },
    {
      "cell_type": "markdown",
      "source": [
        "Calculate the standard deviation of the sampling distribution. Is this what you expected?"
      ],
      "metadata": {
        "id": "3rg0qGEjHjv9"
      }
    },
    {
      "cell_type": "code",
      "source": [
        "sd(means)"
      ],
      "metadata": {
        "colab": {
          "base_uri": "https://localhost:8080/",
          "height": 34
        },
        "id": "-ZyJFfClHjDQ",
        "outputId": "17e49ed8-f9fe-4205-eb7e-e211dcce2b1b"
      },
      "execution_count": null,
      "outputs": [
        {
          "output_type": "display_data",
          "data": {
            "text/html": [
              "0.137067682542656"
            ],
            "text/markdown": "0.137067682542656",
            "text/latex": "0.137067682542656",
            "text/plain": [
              "[1] 0.1370677"
            ]
          },
          "metadata": {}
        }
      ]
    },
    {
      "cell_type": "markdown",
      "source": [
        "If we wish to make inferences about sample statistics then we need to use the distribution that describes the way the* sample statistic* behaves.  Those distributions are called sampling distributions."
      ],
      "metadata": {
        "id": "zx1rIJswH-jL"
      }
    },
    {
      "cell_type": "markdown",
      "source": [
        "Can you calculate a 95% confidence interval for your single sample mean, $\\bar{x}$. Use a t-statistic."
      ],
      "metadata": {
        "id": "y7rOpwRcDgvL"
      }
    },
    {
      "cell_type": "code",
      "source": [
        "qt(.975, df=49) # why do we use 0.975? 50-1 = degrees of freedom"
      ],
      "metadata": {
        "colab": {
          "base_uri": "https://localhost:8080/",
          "height": 34
        },
        "id": "5M6Z_NHeDnXh",
        "outputId": "bddcc798-08e2-4fa3-f4c8-5be471ddd49a"
      },
      "execution_count": null,
      "outputs": [
        {
          "output_type": "display_data",
          "data": {
            "text/html": [
              "2.00957523712924"
            ],
            "text/markdown": "2.00957523712924",
            "text/latex": "2.00957523712924",
            "text/plain": [
              "[1] 2.009575"
            ]
          },
          "metadata": {}
        }
      ]
    },
    {
      "cell_type": "code",
      "source": [
        "mean(sample)+2.00957523712924*sd(means)\n",
        "mean(sample)-2.00957523712924*sd(means)"
      ],
      "metadata": {
        "colab": {
          "base_uri": "https://localhost:8080/",
          "height": 52
        },
        "id": "Xo46Z7TPEMwS",
        "outputId": "65e163e3-66bc-429a-90ba-3808702893c3"
      },
      "execution_count": null,
      "outputs": [
        {
          "output_type": "display_data",
          "data": {
            "text/html": [
              "5.35394400941887"
            ],
            "text/markdown": "5.35394400941887",
            "text/latex": "5.35394400941887",
            "text/plain": [
              "[1] 5.353944"
            ]
          },
          "metadata": {}
        },
        {
          "output_type": "display_data",
          "data": {
            "text/html": [
              "4.80304836812204"
            ],
            "text/markdown": "4.80304836812204",
            "text/latex": "4.80304836812204",
            "text/plain": [
              "[1] 4.803048"
            ]
          },
          "metadata": {}
        }
      ]
    },
    {
      "cell_type": "markdown",
      "source": [
        "Why did I use sd(means) in that calculation?  Recall, the standard deviation of a sampling distribution is called the *standard error* of that statistic.\n",
        "\n",
        "Does the true mean lie within the interval?  How could I make that interval narrower? wider?\n"
      ],
      "metadata": {
        "id": "MsWai80aJXD7"
      }
    },
    {
      "cell_type": "markdown",
      "source": [
        "# **Exercise**"
      ],
      "metadata": {
        "id": "ze3SN3o0D5XF"
      }
    },
    {
      "cell_type": "markdown",
      "source": [
        "Download and place the SR1.csv file in your sample data folder.  Read in the data file.  Obtain summary statistics for the data."
      ],
      "metadata": {
        "id": "maEAA9LvATIP"
      }
    },
    {
      "cell_type": "code",
      "execution_count": null,
      "metadata": {
        "colab": {
          "base_uri": "https://localhost:8080/",
          "height": 321
        },
        "id": "h8mMd10x_MTC",
        "outputId": "543f3bd1-8a4c-450a-a7a5-ae83ab23b30c"
      },
      "outputs": [
        {
          "output_type": "display_data",
          "data": {
            "text/html": [
              "<table class=\"dataframe\">\n",
              "<caption>A data.frame: 6 × 1</caption>\n",
              "<thead>\n",
              "\t<tr><th></th><th scope=col>V1</th></tr>\n",
              "\t<tr><th></th><th scope=col>&lt;dbl&gt;</th></tr>\n",
              "</thead>\n",
              "<tbody>\n",
              "\t<tr><th scope=row>1</th><td>13.133</td></tr>\n",
              "\t<tr><th scope=row>2</th><td> 8.147</td></tr>\n",
              "\t<tr><th scope=row>3</th><td> 8.879</td></tr>\n",
              "\t<tr><th scope=row>4</th><td>10.276</td></tr>\n",
              "\t<tr><th scope=row>5</th><td>10.451</td></tr>\n",
              "\t<tr><th scope=row>6</th><td>13.311</td></tr>\n",
              "</tbody>\n",
              "</table>\n"
            ],
            "text/markdown": "\nA data.frame: 6 × 1\n\n| <!--/--> | V1 &lt;dbl&gt; |\n|---|---|\n| 1 | 13.133 |\n| 2 |  8.147 |\n| 3 |  8.879 |\n| 4 | 10.276 |\n| 5 | 10.451 |\n| 6 | 13.311 |\n\n",
            "text/latex": "A data.frame: 6 × 1\n\\begin{tabular}{r|l}\n  & V1\\\\\n  & <dbl>\\\\\n\\hline\n\t1 & 13.133\\\\\n\t2 &  8.147\\\\\n\t3 &  8.879\\\\\n\t4 & 10.276\\\\\n\t5 & 10.451\\\\\n\t6 & 13.311\\\\\n\\end{tabular}\n",
            "text/plain": [
              "  V1    \n",
              "1 13.133\n",
              "2  8.147\n",
              "3  8.879\n",
              "4 10.276\n",
              "5 10.451\n",
              "6 13.311"
            ]
          },
          "metadata": {}
        }
      ],
      "source": [
        "df<-read.csv(\"sample_data/SR1.csv\", header=FALSE)\n",
        "head(df)"
      ]
    },
    {
      "cell_type": "markdown",
      "source": [
        "Construct a histogram of the data."
      ],
      "metadata": {
        "id": "50cvJnNYKM5s"
      }
    },
    {
      "cell_type": "code",
      "source": [
        "hist(df$V1)"
      ],
      "metadata": {
        "id": "gz7Ec5Y4KPZb",
        "colab": {
          "base_uri": "https://localhost:8080/",
          "height": 437
        },
        "outputId": "6e224115-d63f-4040-c10c-3a12ccaa8e72"
      },
      "execution_count": null,
      "outputs": [
        {
          "output_type": "display_data",
          "data": {
            "text/plain": [
              "Plot with title “Histogram of df$V1”"
            ],
            "image/png": "[encoded data removed]"
          },
          "metadata": {
            "image/png": {
              "width": 420,
              "height": 420
            }
          }
        }
      ]
    },
    {
      "cell_type": "markdown",
      "source": [
        "Construct a 95% confidence interval for the population mean."
      ],
      "metadata": {
        "id": "DD_sBO8EMTIW"
      }
    },
    {
      "cell_type": "code",
      "source": [
        "t.test(df$V1, conf.level = 0.95, var.equal = TRUE)"
      ],
      "metadata": {
        "id": "h8AXc-UwMYPd",
        "colab": {
          "base_uri": "https://localhost:8080/",
          "height": 208
        },
        "outputId": "8cd54b75-33c9-4ed8-827b-9d0839d919c6"
      },
      "execution_count": null,
      "outputs": [
        {
          "output_type": "display_data",
          "data": {
            "text/plain": [
              "\n",
              "\tOne Sample t-test\n",
              "\n",
              "data:  df$V1\n",
              "t = 22.568, df = 25, p-value < 2.2e-16\n",
              "alternative hypothesis: true mean is not equal to 0\n",
              "95 percent confidence interval:\n",
              "  8.627045 10.359801\n",
              "sample estimates:\n",
              "mean of x \n",
              " 9.493423 \n"
            ]
          },
          "metadata": {}
        }
      ]
    },
    {
      "cell_type": "markdown",
      "source": [
        "Conduct a two-sided hypothesis for the data contained in SR1.csv.  Test to see if there is evidence to conclude that $\\mu=10$. Use $\\alpha=0.05$. State your hypothesis and write your conclusion."
      ],
      "metadata": {
        "id": "mqYa7iKnM1Wi"
      }
    },
    {
      "cell_type": "code",
      "source": [
        "t.test(df$V1, conf.level = 0.95, mu=10, var.equal = TRUE)"
      ],
      "metadata": {
        "id": "-Kg3MxqUNIbb",
        "colab": {
          "base_uri": "https://localhost:8080/",
          "height": 208
        },
        "outputId": "da19766c-476e-4e7b-f495-04684b5e1a3b"
      },
      "execution_count": null,
      "outputs": [
        {
          "output_type": "display_data",
          "data": {
            "text/plain": [
              "\n",
              "\tOne Sample t-test\n",
              "\n",
              "data:  df$V1\n",
              "t = -1.2042, df = 25, p-value = 0.2398\n",
              "alternative hypothesis: true mean is not equal to 10\n",
              "95 percent confidence interval:\n",
              "  8.627045 10.359801\n",
              "sample estimates:\n",
              "mean of x \n",
              " 9.493423 \n"
            ]
          },
          "metadata": {}
        }
      ]
    },
    {
      "cell_type": "markdown",
      "source": [
        "Perform the tests again, this time use $\\alpha=0.1$."
      ],
      "metadata": {
        "id": "X1btQjyPN6a2"
      }
    },
    {
      "cell_type": "code",
      "source": [
        "t.test(df$V1, conf.level = 0.90, var.equal = TRUE)"
      ],
      "metadata": {
        "id": "2A8rkHVROCI0",
        "colab": {
          "base_uri": "https://localhost:8080/",
          "height": 208
        },
        "outputId": "e5632f74-c269-4d36-ee38-ca330c1870bd"
      },
      "execution_count": null,
      "outputs": [
        {
          "output_type": "display_data",
          "data": {
            "text/plain": [
              "\n",
              "\tOne Sample t-test\n",
              "\n",
              "data:  df$V1\n",
              "t = 22.568, df = 25, p-value < 2.2e-16\n",
              "alternative hypothesis: true mean is not equal to 0\n",
              "90 percent confidence interval:\n",
              "  8.774866 10.211980\n",
              "sample estimates:\n",
              "mean of x \n",
              " 9.493423 \n"
            ]
          },
          "metadata": {}
        }
      ]
    },
    {
      "cell_type": "code",
      "source": [
        "t.test(df$V1, conf.level = 0.90, mu=10, var.equal = TRUE)"
      ],
      "metadata": {
        "id": "CxAqVUZXOOYi",
        "colab": {
          "base_uri": "https://localhost:8080/",
          "height": 208
        },
        "outputId": "284d1c90-b780-45c8-e953-5e13b09c2435"
      },
      "execution_count": null,
      "outputs": [
        {
          "output_type": "display_data",
          "data": {
            "text/plain": [
              "\n",
              "\tOne Sample t-test\n",
              "\n",
              "data:  df$V1\n",
              "t = -1.2042, df = 25, p-value = 0.2398\n",
              "alternative hypothesis: true mean is not equal to 10\n",
              "90 percent confidence interval:\n",
              "  8.774866 10.211980\n",
              "sample estimates:\n",
              "mean of x \n",
              " 9.493423 \n"
            ]
          },
          "metadata": {}
        }
      ]
    }
  ]
}