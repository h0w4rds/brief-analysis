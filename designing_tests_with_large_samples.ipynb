{
  "nbformat": 4,
  "nbformat_minor": 0,
  "metadata": {
    "colab": {
      "provenance": [],
      "include_colab_link": true
    },
    "kernelspec": {
      "name": "ir",
      "display_name": "R"
    },
    "language_info": {
      "name": "R"
    }
  },
  "cells": [
    {
      "cell_type": "markdown",
      "metadata": {
        "id": "view-in-github",
        "colab_type": "text"
      },
      "source": [
        "<a href=\"https://colab.research.google.com/github/h0w4rds/brief-analysis/blob/main/designing_tests_with_large_samples.ipynb\" target=\"_parent\"><img src=\"https://colab.research.google.com/assets/colab-badge.svg\" alt=\"Open In Colab\"/></a>"
      ]
    },
    {
      "cell_type": "markdown",
      "source": [
        "# **Designing Tests with Large Samples**\n",
        "\n",
        "This set of notes covers Chapter 3.\n",
        "\n",
        "\n",
        "---\n",
        "\n"
      ],
      "metadata": {
        "id": "zmGeTq5uKfd2"
      }
    },
    {
      "cell_type": "markdown",
      "source": [
        "After reading these notes and the chapter and attending lecture students will be able to:\n",
        " \n",
        " \n",
        " \n",
        "*   Be able to define internal and external validity and recognize features of a design that increase internal and external validity.\n",
        "*   Recognize the key decisions that need to be made to design and experiment.\n",
        "* Know the two forms of randomness that are critical to ensuring valid statistical results from an experiment.\n",
        "* Understand the importance of communicating their planned experimental designs to analysts, those executing the test, and the decision makers who will act on the results of the test.\n",
        "\n",
        "\n",
        "---\n",
        "\n",
        "\n",
        "\n",
        "\n"
      ],
      "metadata": {
        "id": "K9w_l4V0N1tw"
      }
    },
    {
      "cell_type": "markdown",
      "source": [
        "***All experimental studies are observational studies waiting to happen***.\n",
        "\n",
        "\n",
        "---\n",
        "\n"
      ],
      "metadata": {
        "id": "5BJUtXCH4eRD"
      }
    },
    {
      "cell_type": "markdown",
      "source": [
        "We now know how to analyze an A/B test. But how do we set up an A/B test so that we can credibly belive its results?\n",
        " \n",
        "It is much more difficult than one might realize, just look at the first trial of the Salk polio vaccine.\n",
        "\n",
        "\n",
        "If there is a single mistake in setting up the experiment then the experimental results will be no better than observational data and that is precisely what happened to the first Salk trial.\n"
      ],
      "metadata": {
        "id": "hydQlG_oSXg3"
      }
    },
    {
      "cell_type": "markdown",
      "source": [
        "# **Average Treatment Effect**"
      ],
      "metadata": {
        "id": "X5FbePUEUqE4"
      }
    },
    {
      "cell_type": "markdown",
      "source": [
        "For an A/B test with a numeric response our goal is to obtain and **unbiased** estimate the difference of the response between the means of group A and group B. \n",
        "\n",
        "What do we mean by **unbiased**?"
      ],
      "metadata": {
        "id": "iWFCUz35Us-i"
      }
    },
    {
      "cell_type": "markdown",
      "source": [
        "\n",
        "We will require three assumptions to achieve unbiased estimates for our average treatment effect (these also apply to an experiment where the responses are proportions).\n",
        " \n",
        "1. **Random assignment:**  All units have the same probability of being assigned to either group.  What happens if we do not do this?\n",
        " \n",
        "2. **Excludability:** The result of the treatment depends only on whether that unit received the treatment and not anything else.\n",
        " \n",
        "3. **Noninterference:** This means that the treatment affects only the treated unit and not any other units.  You might hear this referred to as the \"Stable Unit Treatment Value Assumption\" or STUVA.\n",
        "\n",
        "\n",
        "---\n",
        "\n"
      ],
      "metadata": {
        "id": "ysoNCZlLVN9N"
      }
    },
    {
      "cell_type": "markdown",
      "source": [
        " \n",
        "**Example:**  Let's revisit the Landing Page Experiment where an online retailer ran a test to determine which of two landing pages for their website produces more sales."
      ],
      "metadata": {
        "id": "f8S21YEsWE59"
      }
    },
    {
      "cell_type": "markdown",
      "source": [
        "1. How could this experiment violate random assignment?"
      ],
      "metadata": {
        "id": "C32hmRVzWXb_"
      }
    },
    {
      "cell_type": "markdown",
      "source": [
        "2. How could this experiment violate excludability?"
      ],
      "metadata": {
        "id": "FDHsg3r9WiqM"
      }
    },
    {
      "cell_type": "markdown",
      "source": [
        "3. How could this experiment violate STUVA?  Or have interference?\n",
        "\n",
        "\n",
        "---\n",
        "\n"
      ],
      "metadata": {
        "id": "EbvqTtFIWnM1"
      }
    },
    {
      "cell_type": "markdown",
      "source": [
        "# **Internal and External Validity**"
      ],
      "metadata": {
        "id": "HhrON82kWvQV"
      }
    },
    {
      "cell_type": "markdown",
      "source": [
        "In order for an experiment to be useful, it must be conducted correctly.  If the study is conducted correctly, the results of the study must be applicable in the real world."
      ],
      "metadata": {
        "id": "XHUYgGfSWzRM"
      }
    },
    {
      "cell_type": "markdown",
      "source": [
        "1. **Internal validity:** Can we attribute changes in the dependent variable to changes in the treatment? Do we have causality?\n"
      ],
      "metadata": {
        "id": "Dox94ztkXB5W"
      }
    },
    {
      "cell_type": "markdown",
      "source": [
        "2. **External valditity:** Can we generalize the results of the expeirment to other people or settings?"
      ],
      "metadata": {
        "id": "xc2OToeXXJCr"
      }
    },
    {
      "cell_type": "markdown",
      "source": [
        "**Threats to Internal Validity**\n",
        "\n",
        "\n",
        "---\n",
        "\n",
        "\n",
        "\n",
        "\n"
      ],
      "metadata": {
        "id": "ALoPWIebXUGW"
      }
    },
    {
      "cell_type": "markdown",
      "source": [
        "1. **History:** an event that occurs while the experiment is being conducted can adversely affect the results."
      ],
      "metadata": {
        "id": "GZpX6MjnXk1f"
      }
    },
    {
      "cell_type": "markdown",
      "source": [
        "2. **Maturation:** Subjects change during the course of an experiment."
      ],
      "metadata": {
        "id": "z7A9p4vLXtWs"
      }
    },
    {
      "cell_type": "markdown",
      "source": [
        "3. **Testing:** The subject's response may be affected by the testing procedure in addition to the treatment."
      ],
      "metadata": {
        "id": "TVHHhA7qXybn"
      }
    },
    {
      "cell_type": "markdown",
      "source": [
        "4. **Instrumentation:** If different measuring devices are used before and after or if the persons using the instrument to take measurements are poorly trained or become bored, measurements may be affected."
      ],
      "metadata": {
        "id": "PDcl62JrX8wT"
      }
    },
    {
      "cell_type": "markdown",
      "source": [
        "5. **Regression to the mean:** If only subjects who have high or low scores on some measure are selected for an experiment, subsequent performance may be affected by regression to the mean."
      ],
      "metadata": {
        "id": "OXDZpYvSYJGN"
      }
    },
    {
      "cell_type": "markdown",
      "source": [
        "6. **Selection:** If experimental units are not randomly selected from the population, the bias can occur."
      ],
      "metadata": {
        "id": "aGkGW46vYSOH"
      }
    },
    {
      "cell_type": "markdown",
      "source": [
        "7. **Mortality:** Some experimental units may drop out of the experiment."
      ],
      "metadata": {
        "id": "opHGRGBHYggp"
      }
    },
    {
      "cell_type": "markdown",
      "source": [
        "8. **Diffusion of treatments:** Sometimes the control group gains access to the treatment."
      ],
      "metadata": {
        "id": "supf0YdbYlkm"
      }
    },
    {
      "cell_type": "markdown",
      "source": [
        "9. **Failure of randomization of treatments:** If treatment assignment is not truly random, then unexpected or unknonwn confounds can occur."
      ],
      "metadata": {
        "id": "vinMj-tcYrKV"
      }
    },
    {
      "cell_type": "markdown",
      "source": [
        "**Threats to External Validity**\n",
        "\n",
        "\n",
        "---\n",
        "\n",
        "\n",
        "\n",
        "The concept of external validity is largely focused on the question: To whom do the result fo this experiment apply?  "
      ],
      "metadata": {
        "id": "vTkpejcpY0R0"
      }
    },
    {
      "cell_type": "markdown",
      "source": [
        "1. **Population:** Random selection of units ensures generalization to the population."
      ],
      "metadata": {
        "id": "ytSh9HC6ZIEx"
      }
    },
    {
      "cell_type": "markdown",
      "source": [
        "2. **Hawthorne effect:** When persons are aware they are being studied, the often change their behavior."
      ],
      "metadata": {
        "id": "2eWJlz6eZMcm"
      }
    },
    {
      "cell_type": "markdown",
      "source": [
        "3. **Ecological or Enviromental:** Do the results generalize to setting beyond those used in the oriniginal experiment?"
      ],
      "metadata": {
        "id": "Wp5OJi_rZVCL"
      }
    },
    {
      "cell_type": "markdown",
      "source": [
        "4. **Temporal:** Do the results generalize to other times, and not just the times/seasons during which the experiment was conducted?"
      ],
      "metadata": {
        "id": "c9gK_COLZfS5"
      }
    },
    {
      "cell_type": "markdown",
      "source": [
        "5. **Primacy and Novelty Effects**"
      ],
      "metadata": {
        "id": "L2UQ0QRja8HN"
      }
    },
    {
      "cell_type": "markdown",
      "source": [
        "**Example:** Let's revisit the Email Response Test (pg 64) and analyze it for internal and external validity."
      ],
      "metadata": {
        "id": "lg9B09snZ-zf"
      }
    },
    {
      "cell_type": "markdown",
      "source": [
        "# **Designing Conclusive Experiments**"
      ],
      "metadata": {
        "id": "Pik3q8f3shqt"
      }
    },
    {
      "cell_type": "markdown",
      "source": [
        "The most important thing is to approach experiments with a design mentality.  Don't just conduct and experiment, but design and experiment and then conduct it.  Ask yourself, \"what can go wrong?\" and then guard against those things."
      ],
      "metadata": {
        "id": "0e4p8KsBsk0X"
      }
    },
    {
      "cell_type": "markdown",
      "source": [
        "**1. Defining Treatments.**\n",
        "\n",
        "\n",
        "---\n",
        "\n",
        "\n",
        "\n",
        "\n",
        "\n",
        "*  The immediate business question will go a long way toward defining possible treatments.  \n",
        "*   Make sure it is a specific question, not a general question.\n",
        "\n"
      ],
      "metadata": {
        "id": "IWM5RTX_s1yE"
      }
    },
    {
      "cell_type": "markdown",
      "source": [
        "**2. Choosing a Test-setting**\n",
        "\n",
        "\n",
        "---\n",
        "\n",
        "\n",
        "\n",
        "\n",
        "\n",
        "*   Will this experiment be done in the \"lab\" or in the \"feild\"?\n",
        "\n",
        "\n"
      ],
      "metadata": {
        "id": "Z9gIXlJ7ts_U"
      }
    },
    {
      "cell_type": "markdown",
      "source": [
        "**3. Choosing a Response Measure**\n",
        "\n",
        "\n",
        "---\n",
        "\n",
        "\n",
        "\n",
        "\n",
        "\n",
        "*   These are often referred to as key performance indicators (KPIs).\n",
        "*   There should only be one KPI.\n",
        "* If there are several KPIs you can go \"fishing\" and declare success any time one of the KPIs is significant, but how will you know it's not a type I error?\n",
        "* It should be chosen before the data are collected.\n",
        "\n"
      ],
      "metadata": {
        "id": "rOyP5xSDt7Gz"
      }
    },
    {
      "cell_type": "markdown",
      "source": [
        "**4. Selecting Subjects**\n",
        "\n",
        "\n",
        "---\n",
        "\n",
        "\n",
        "\n",
        "\n",
        "*   Subjects should be selected randomly from the target population and you have to know your target population!\n",
        "*   If you have a list of customers then it is pretty easy to use a random number generator to assign treatments to subjects.\n",
        "* If you are conducting a web experiment where the target population is actual visits, not visitors then you will want to sample long enough to avoid hour of day and day of week effects.  If the target is individual visitors then sampling from visits is a convenience sample! Why?\n",
        "* Consider test designs that assign treatments to users and track users across visits and track the number of times a user is exposed to a treatment.\n",
        "* Randomly sampling the target population is the best way to achieve strong external validity.\n",
        "\n"
      ],
      "metadata": {
        "id": "7AKjDIfltqrY"
      }
    },
    {
      "cell_type": "markdown",
      "source": [
        "**5. Assigning Treatments to Units**\n",
        "\n",
        "\n",
        "---\n",
        "\n",
        "\n",
        "\n",
        "\n",
        "\n",
        "*   This is the second form of necessary randomization in an experiment.\n",
        "* Randomization of treatment assignment ensures that external influences are randomly distributed between the treatement and control group.\n",
        "*   When sample size is large enough, randomization of treatment assignment balances the treatment groups, achieving strong internal validity.\n",
        "\n"
      ],
      "metadata": {
        "id": "SgZswg7-wOjT"
      }
    },
    {
      "cell_type": "markdown",
      "source": [
        "**6. Choosing Factor Levels**\n",
        "\n",
        "\n",
        "---\n",
        "\n",
        "\n",
        "\n",
        "\n",
        "* If the factor is binary then this is easy.\n",
        "* If the factor is numeric then you will want to choose a hi and low level. Be careful to put these levels \"far\" apart from one and another.\n",
        "* If you can, when you have a factor with numeric levels, you will want to do some test runs.\n"
      ],
      "metadata": {
        "id": "i85rBwuJww-S"
      }
    },
    {
      "cell_type": "markdown",
      "source": [
        "**7. Make sure you have enough data**\n",
        "\n",
        "\n",
        "---\n",
        "\n",
        "\n",
        "\n",
        "\n",
        "\n",
        "*   What can you do here?\n",
        "\n",
        "\n"
      ],
      "metadata": {
        "id": "F7NyykWtx7w7"
      }
    },
    {
      "cell_type": "markdown",
      "source": [
        "**8. Avoiding Other Problems**\n",
        "\n",
        "---\n",
        "\n",
        "\n",
        "\n",
        "*   Randomize the order of experiments.\n",
        "*   Consider blinding\n",
        "* Generate synthetic data and analyze it before you run the experiment.\n",
        "* Consider running an A/A test\n",
        "\n",
        "\n",
        "\n",
        "\n",
        "\n",
        "\n",
        "\n",
        "\n",
        "\n"
      ],
      "metadata": {
        "id": "tUtPEGMfyEu1"
      }
    },
    {
      "cell_type": "markdown",
      "source": [
        "**9. Communicating the Design to Others**\n",
        "\n",
        "\n",
        "---\n",
        "\n",
        "\n",
        "\n",
        "*   You will probably have to communicate to several different groups, be prepared to explain your design to other analysts with statistical understanding, managers and those who will be conducting the experiment.\n",
        "\n",
        "\n"
      ],
      "metadata": {
        "id": "xKnsUBTkzAqv"
      }
    }
  ]
}