{
  "nbformat": 4,
  "nbformat_minor": 0,
  "metadata": {
    "colab": {
      "provenance": [],
      "include_colab_link": true
    },
    "kernelspec": {
      "name": "ir",
      "display_name": "R"
    },
    "language_info": {
      "name": "R"
    }
  },
  "cells": [
    {
      "cell_type": "markdown",
      "metadata": {
        "id": "view-in-github",
        "colab_type": "text"
      },
      "source": [
        "<a href=\"https://colab.research.google.com/github/h0w4rds/brief-analysis/blob/main/power.ipynb\" target=\"_parent\"><img src=\"https://colab.research.google.com/assets/colab-badge.svg\" alt=\"Open In Colab\"/></a>"
      ]
    },
    {
      "cell_type": "markdown",
      "source": [
        "# **Power Fun**\n",
        "\n",
        "Here are a few scenarios for you to see how changing aspects of the problem \n",
        "changes power.  These problems are in terms of the t test for a difference in sample means, but they translate generally to power for all statistical tests.\n",
        "\n",
        "\n",
        "---\n",
        "\n"
      ],
      "metadata": {
        "id": "P4qY57zYJqv3"
      }
    },
    {
      "cell_type": "markdown",
      "source": [
        "1. Here is what happens when we vary the effect size and nothing else changes."
      ],
      "metadata": {
        "id": "GCkxSSanJqMv"
      }
    },
    {
      "cell_type": "code",
      "source": [
        "d<-c(-15, -10, -5, 5, 10, 15)\n",
        "p.out<-power.t.test(delta=d, sd=30, sig.level=0.05, n=100)$power\n",
        "plot(d, p.out, ylab=\"Power\", xlab=\"Difference between Audio-Video\", ylim=c(0,1))\n",
        "abline(h=0.8, col=\"red\")\n"
      ],
      "metadata": {
        "id": "hLGpt1fTJ0te"
      },
      "execution_count": null,
      "outputs": []
    },
    {
      "cell_type": "markdown",
      "source": [
        "2. Here is what happens when we change the standard deviation and nothing else changes."
      ],
      "metadata": {
        "id": "nZ_yGBHGJ6CF"
      }
    },
    {
      "cell_type": "code",
      "source": [
        "sd<-c(5, 10, 15, 20, 15, 30)\n",
        "p.out<-power.t.test(delta=5, sd=sd, sig.level=0.05, n=100)$power\n",
        "plot(sd, p.out, ylab=\"Power\", xlab=\"Standard Deviation\", ylim=c(0,1))\n",
        "abline(h=0.8, col=\"red\")"
      ],
      "metadata": {
        "id": "ERwMDbLgJ8hc"
      },
      "execution_count": null,
      "outputs": []
    },
    {
      "cell_type": "markdown",
      "source": [
        "3. Here is what happens when we change the $\\alpha$ level and everything else is held constant."
      ],
      "metadata": {
        "id": "or1WP6SCJ9xC"
      }
    },
    {
      "cell_type": "code",
      "source": [
        "sig.level<-c(0.001, 0.01, 0.05, 0.1)\n",
        "p.out<-power.t.test(delta=15, sd=30, sig.level=sig.level, n=100)$power\n",
        "plot(sig.level, p.out, ylab=\"Power\", xlab=\"Significance Level\", ylim=c(0,1))\n",
        "abline(h=0.8, col=\"red\")"
      ],
      "metadata": {
        "id": "2yHMf0RHKBEA"
      },
      "execution_count": null,
      "outputs": []
    },
    {
      "cell_type": "markdown",
      "source": [
        "4. Here is what happens when we change n and everything else stays constant."
      ],
      "metadata": {
        "id": "DckSDl9ZKHD2"
      }
    },
    {
      "cell_type": "code",
      "source": [
        "n<-c(20, 40, 60, 80, 100)\n",
        "p.out<-power.t.test(delta=15, sd=30, sig.level=0.05, n=n)$power\n",
        "plot(n, p.out, ylab=\"Power\", xlab=\"Sample Size\", ylim=c(0,1))\n",
        "abline(h=0.8, col=\"red\")"
      ],
      "metadata": {
        "id": "DT9A_0AyKKB_"
      },
      "execution_count": null,
      "outputs": []
    }
  ]
}