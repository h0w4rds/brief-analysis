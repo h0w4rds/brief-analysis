{
  "nbformat": 4,
  "nbformat_minor": 0,
  "metadata": {
    "colab": {
      "provenance": [],
      "collapsed_sections": [],
      "include_colab_link": true
    },
    "kernelspec": {
      "name": "ir",
      "display_name": "R"
    },
    "language_info": {
      "name": "R"
    }
  },
  "cells": [
    {
      "cell_type": "markdown",
      "metadata": {
        "id": "view-in-github",
        "colab_type": "text"
      },
      "source": [
        "<a href=\"https://colab.research.google.com/github/h0w4rds/brief-analysis/blob/main/Copy_of_Randomization.ipynb\" target=\"_parent\"><img src=\"https://colab.research.google.com/assets/colab-badge.svg\" alt=\"Open In Colab\"/></a>"
      ]
    },
    {
      "cell_type": "markdown",
      "source": [
        "# **Randomization in R**\n",
        "\n",
        "Randomly assign experimental units to treatments for a simple A/B test."
      ],
      "metadata": {
        "id": "3VGmqFzHI7-U"
      }
    },
    {
      "cell_type": "markdown",
      "source": [
        "# **Database of Subjects**\n",
        "\n",
        "To test out an email marketing campaignwith an existing list, a group is randomly sampled into two groups. Random subsets will are utilized."
      ],
      "metadata": {
        "id": "RyMBxTpLJJND"
      }
    },
    {
      "cell_type": "code",
      "execution_count": 1,
      "metadata": {
        "id": "TxkDYEHCI7HW",
        "colab": {
          "base_uri": "https://localhost:8080/",
          "height": 304
        },
        "outputId": "35232be3-f0b1-4d72-f430-ed4e2de3010b"
      },
      "outputs": [
        {
          "output_type": "display_data",
          "data": {
            "text/html": [
              "<table class=\"dataframe\">\n",
              "<caption>A tibble: 6 × 2</caption>\n",
              "<thead>\n",
              "\t<tr><th scope=col>Name</th><th scope=col>Email</th></tr>\n",
              "\t<tr><th scope=col>&lt;chr&gt;</th><th scope=col>&lt;chr&gt;</th></tr>\n",
              "</thead>\n",
              "<tbody>\n",
              "\t<tr><td>Beerman, Jack   </td><td>beermajt@miamioh.edu</td></tr>\n",
              "\t<tr><td>Burck, Anders   </td><td>burckaa2@miamioh.edu</td></tr>\n",
              "\t<tr><td>Cain, Ethan     </td><td>cained@miamioh.edu  </td></tr>\n",
              "\t<tr><td>Clisham, Michael</td><td>clishamj@miamioh.edu</td></tr>\n",
              "\t<tr><td>DiPuccio, Oliver</td><td>dipuccor@miamioh.edu</td></tr>\n",
              "\t<tr><td>Khanna, Dillon  </td><td>khannadf@miamioh.edu</td></tr>\n",
              "</tbody>\n",
              "</table>\n"
            ],
            "text/markdown": "\nA tibble: 6 × 2\n\n| Name &lt;chr&gt; | Email &lt;chr&gt; |\n|---|---|\n| Beerman, Jack    | beermajt@miamioh.edu |\n| Burck, Anders    | burckaa2@miamioh.edu |\n| Cain, Ethan      | cained@miamioh.edu   |\n| Clisham, Michael | clishamj@miamioh.edu |\n| DiPuccio, Oliver | dipuccor@miamioh.edu |\n| Khanna, Dillon   | khannadf@miamioh.edu |\n\n",
            "text/latex": "A tibble: 6 × 2\n\\begin{tabular}{ll}\n Name & Email\\\\\n <chr> & <chr>\\\\\n\\hline\n\t Beerman, Jack    & beermajt@miamioh.edu\\\\\n\t Burck, Anders    & burckaa2@miamioh.edu\\\\\n\t Cain, Ethan      & cained@miamioh.edu  \\\\\n\t Clisham, Michael & clishamj@miamioh.edu\\\\\n\t DiPuccio, Oliver & dipuccor@miamioh.edu\\\\\n\t Khanna, Dillon   & khannadf@miamioh.edu\\\\\n\\end{tabular}\n",
            "text/plain": [
              "  Name             Email               \n",
              "1 Beerman, Jack    beermajt@miamioh.edu\n",
              "2 Burck, Anders    burckaa2@miamioh.edu\n",
              "3 Cain, Ethan      cained@miamioh.edu  \n",
              "4 Clisham, Michael clishamj@miamioh.edu\n",
              "5 DiPuccio, Oliver dipuccor@miamioh.edu\n",
              "6 Khanna, Dillon   khannadf@miamioh.edu"
            ]
          },
          "metadata": {}
        },
        {
          "output_type": "display_data",
          "data": {
            "text/html": [
              "67"
            ],
            "text/markdown": "67",
            "text/latex": "67",
            "text/plain": [
              "[1] 67"
            ]
          },
          "metadata": {}
        }
      ],
      "source": [
        "library(\"readxl\")\n",
        "df<-read_excel(\"sample_data/class list.xlsx\")\n",
        "head(df)\n",
        "nrow(df)"
      ]
    },
    {
      "cell_type": "markdown",
      "source": [
        "Half of the of the customer base is randomly sampled."
      ],
      "metadata": {
        "id": "5fu8Rt4mTvYH"
      }
    },
    {
      "cell_type": "code",
      "source": [
        "set.seed(13) # always use same integer for replicability; integer is not significant, replicability is\n",
        "index<-sample(1:nrow(df), size=33) \n",
        "index # vector of row numbers to be included within the sample"
      ],
      "metadata": {
        "id": "V8HTaDheT03C",
        "colab": {
          "base_uri": "https://localhost:8080/",
          "height": 34
        },
        "outputId": "7c867b31-dda6-46f8-a7bf-5e675e10c078"
      },
      "execution_count": 20,
      "outputs": [
        {
          "output_type": "display_data",
          "data": {
            "text/html": [
              "<style>\n",
              ".list-inline {list-style: none; margin:0; padding: 0}\n",
              ".list-inline>li {display: inline-block}\n",
              ".list-inline>li:not(:last-child)::after {content: \"\\00b7\"; padding: 0 .5ex}\n",
              "</style>\n",
              "<ol class=list-inline><li>3</li><li>64</li><li>6</li><li>48</li><li>22</li><li>4</li><li>29</li><li>60</li><li>56</li><li>51</li><li>17</li><li>42</li><li>15</li><li>23</li><li>5</li><li>12</li><li>49</li><li>32</li><li>50</li><li>47</li><li>57</li><li>11</li><li>62</li><li>54</li><li>14</li><li>67</li><li>31</li><li>59</li><li>53</li><li>45</li><li>30</li><li>2</li><li>1</li></ol>\n"
            ],
            "text/markdown": "1. 3\n2. 64\n3. 6\n4. 48\n5. 22\n6. 4\n7. 29\n8. 60\n9. 56\n10. 51\n11. 17\n12. 42\n13. 15\n14. 23\n15. 5\n16. 12\n17. 49\n18. 32\n19. 50\n20. 47\n21. 57\n22. 11\n23. 62\n24. 54\n25. 14\n26. 67\n27. 31\n28. 59\n29. 53\n30. 45\n31. 30\n32. 2\n33. 1\n\n\n",
            "text/latex": "\\begin{enumerate*}\n\\item 3\n\\item 64\n\\item 6\n\\item 48\n\\item 22\n\\item 4\n\\item 29\n\\item 60\n\\item 56\n\\item 51\n\\item 17\n\\item 42\n\\item 15\n\\item 23\n\\item 5\n\\item 12\n\\item 49\n\\item 32\n\\item 50\n\\item 47\n\\item 57\n\\item 11\n\\item 62\n\\item 54\n\\item 14\n\\item 67\n\\item 31\n\\item 59\n\\item 53\n\\item 45\n\\item 30\n\\item 2\n\\item 1\n\\end{enumerate*}\n",
            "text/plain": [
              " [1]  3 64  6 48 22  4 29 60 56 51 17 42 15 23  5 12 49 32 50 47 57 11 62 54 14\n",
              "[26] 67 31 59 53 45 30  2  1"
            ]
          },
          "metadata": {}
        }
      ]
    },
    {
      "cell_type": "markdown",
      "source": [
        "The database is subsetted accordingly."
      ],
      "metadata": {
        "id": "U0b6JzosUG40"
      }
    },
    {
      "cell_type": "code",
      "source": [
        "selected<-df[index,] # each row is an entry; each row selected is a selected customer\n",
        "head(selected)\n",
        "dim(selected)"
      ],
      "metadata": {
        "id": "ZyWPjrk4UN1l",
        "colab": {
          "base_uri": "https://localhost:8080/",
          "height": 304
        },
        "outputId": "b28e584e-c29f-4ec0-89b3-69c917860cc5"
      },
      "execution_count": 6,
      "outputs": [
        {
          "output_type": "display_data",
          "data": {
            "text/html": [
              "<table class=\"dataframe\">\n",
              "<caption>A tibble: 6 × 2</caption>\n",
              "<thead>\n",
              "\t<tr><th scope=col>Name</th><th scope=col>Email</th></tr>\n",
              "\t<tr><th scope=col>&lt;chr&gt;</th><th scope=col>&lt;chr&gt;</th></tr>\n",
              "</thead>\n",
              "<tbody>\n",
              "\t<tr><td>Cain, Ethan      </td><td>cained@miamioh.edu  </td></tr>\n",
              "\t<tr><td>Schechtman, Carly</td><td>schechcd@miamioh.edu</td></tr>\n",
              "\t<tr><td>Khanna, Dillon   </td><td>khannadf@miamioh.edu</td></tr>\n",
              "\t<tr><td>Ahyi, Yoann-Axel </td><td>ahyiya@miamioh.edu  </td></tr>\n",
              "\t<tr><td>Reed, Kyle       </td><td>reedkj2@miamioh.edu </td></tr>\n",
              "\t<tr><td>Clisham, Michael </td><td>clishamj@miamioh.edu</td></tr>\n",
              "</tbody>\n",
              "</table>\n"
            ],
            "text/markdown": "\nA tibble: 6 × 2\n\n| Name &lt;chr&gt; | Email &lt;chr&gt; |\n|---|---|\n| Cain, Ethan       | cained@miamioh.edu   |\n| Schechtman, Carly | schechcd@miamioh.edu |\n| Khanna, Dillon    | khannadf@miamioh.edu |\n| Ahyi, Yoann-Axel  | ahyiya@miamioh.edu   |\n| Reed, Kyle        | reedkj2@miamioh.edu  |\n| Clisham, Michael  | clishamj@miamioh.edu |\n\n",
            "text/latex": "A tibble: 6 × 2\n\\begin{tabular}{ll}\n Name & Email\\\\\n <chr> & <chr>\\\\\n\\hline\n\t Cain, Ethan       & cained@miamioh.edu  \\\\\n\t Schechtman, Carly & schechcd@miamioh.edu\\\\\n\t Khanna, Dillon    & khannadf@miamioh.edu\\\\\n\t Ahyi, Yoann-Axel  & ahyiya@miamioh.edu  \\\\\n\t Reed, Kyle        & reedkj2@miamioh.edu \\\\\n\t Clisham, Michael  & clishamj@miamioh.edu\\\\\n\\end{tabular}\n",
            "text/plain": [
              "  Name              Email               \n",
              "1 Cain, Ethan       cained@miamioh.edu  \n",
              "2 Schechtman, Carly schechcd@miamioh.edu\n",
              "3 Khanna, Dillon    khannadf@miamioh.edu\n",
              "4 Ahyi, Yoann-Axel  ahyiya@miamioh.edu  \n",
              "5 Reed, Kyle        reedkj2@miamioh.edu \n",
              "6 Clisham, Michael  clishamj@miamioh.edu"
            ]
          },
          "metadata": {}
        },
        {
          "output_type": "display_data",
          "data": {
            "text/html": [
              "<style>\n",
              ".list-inline {list-style: none; margin:0; padding: 0}\n",
              ".list-inline>li {display: inline-block}\n",
              ".list-inline>li:not(:last-child)::after {content: \"\\00b7\"; padding: 0 .5ex}\n",
              "</style>\n",
              "<ol class=list-inline><li>33</li><li>2</li></ol>\n"
            ],
            "text/markdown": "1. 33\n2. 2\n\n\n",
            "text/latex": "\\begin{enumerate*}\n\\item 33\n\\item 2\n\\end{enumerate*}\n",
            "text/plain": [
              "[1] 33  2"
            ]
          },
          "metadata": {}
        }
      ]
    },
    {
      "cell_type": "markdown",
      "source": [
        "Half of selected folks are assigned to each (A, B) group."
      ],
      "metadata": {
        "id": "EWFMFDhjUUt1"
      }
    },
    {
      "cell_type": "code",
      "source": [
        "set.seed(13)\n",
        "index <- sample(1:nrow(selected), size = 16)\n",
        "A <- selected[index,]\n",
        "B <- selected[-index,] # all rows not in index"
      ],
      "metadata": {
        "id": "yV0A0HKrUbjY"
      },
      "execution_count": 16,
      "outputs": []
    },
    {
      "cell_type": "markdown",
      "source": [
        "A, B counts."
      ],
      "metadata": {
        "id": "rj2ezVE5mvve"
      }
    },
    {
      "cell_type": "code",
      "source": [
        "nrow(A)\n",
        "nrow(B)"
      ],
      "metadata": {
        "colab": {
          "base_uri": "https://localhost:8080/",
          "height": 52
        },
        "id": "lGN1EgQwmsvy",
        "outputId": "73c30ca3-d9a5-4367-b9da-9db11f582a46"
      },
      "execution_count": 17,
      "outputs": [
        {
          "output_type": "display_data",
          "data": {
            "text/html": [
              "16"
            ],
            "text/markdown": "16",
            "text/latex": "16",
            "text/plain": [
              "[1] 16"
            ]
          },
          "metadata": {}
        },
        {
          "output_type": "display_data",
          "data": {
            "text/html": [
              "17"
            ],
            "text/markdown": "17",
            "text/latex": "17",
            "text/plain": [
              "[1] 17"
            ]
          },
          "metadata": {}
        }
      ]
    },
    {
      "cell_type": "markdown",
      "source": [
        "# **Visits from a Stream**\n",
        "\n",
        "Use a random binomial generator to generate random assignment."
      ],
      "metadata": {
        "id": "3xCnu3_iUdaN"
      }
    },
    {
      "cell_type": "code",
      "source": [
        "set.seed(13)\n",
        "p=0.5 # proportion of visitors to sample\n",
        "page<-rbinom(200, 1, p)\n",
        "page"
      ],
      "metadata": {
        "id": "o634pJPoVVGP",
        "colab": {
          "base_uri": "https://localhost:8080/",
          "height": 69
        },
        "outputId": "97addb38-e60e-4453-d476-76e1650f040a"
      },
      "execution_count": 18,
      "outputs": [
        {
          "output_type": "display_data",
          "data": {
            "text/html": [
              "<style>\n",
              ".list-inline {list-style: none; margin:0; padding: 0}\n",
              ".list-inline>li {display: inline-block}\n",
              ".list-inline>li:not(:last-child)::after {content: \"\\00b7\"; padding: 0 .5ex}\n",
              "</style>\n",
              "<ol class=list-inline><li>1</li><li>0</li><li>0</li><li>0</li><li>1</li><li>0</li><li>1</li><li>1</li><li>1</li><li>0</li><li>1</li><li>1</li><li>1</li><li>1</li><li>1</li><li>0</li><li>0</li><li>1</li><li>1</li><li>1</li><li>0</li><li>1</li><li>1</li><li>1</li><li>0</li><li>1</li><li>0</li><li>0</li><li>0</li><li>1</li><li>0</li><li>0</li><li>1</li><li>1</li><li>1</li><li>0</li><li>0</li><li>0</li><li>1</li><li>0</li><li>1</li><li>0</li><li>1</li><li>1</li><li>1</li><li>1</li><li>0</li><li>0</li><li>1</li><li>1</li><li>1</li><li>0</li><li>0</li><li>1</li><li>0</li><li>0</li><li>0</li><li>0</li><li>0</li><li>0</li><li>0</li><li>1</li><li>1</li><li>1</li><li>0</li><li>0</li><li>0</li><li>0</li><li>0</li><li>0</li><li>0</li><li>0</li><li>0</li><li>0</li><li>0</li><li>1</li><li>0</li><li>0</li><li>0</li><li>1</li><li>1</li><li>0</li><li>1</li><li>0</li><li>1</li><li>1</li><li>1</li><li>0</li><li>0</li><li>1</li><li>0</li><li>1</li><li>0</li><li>1</li><li>0</li><li>0</li><li>1</li><li>1</li><li>1</li><li>1</li><li>1</li><li>1</li><li>1</li><li>1</li><li>0</li><li>0</li><li>0</li><li>0</li><li>1</li><li>1</li><li>0</li><li>0</li><li>0</li><li>0</li><li>1</li><li>0</li><li>1</li><li>0</li><li>1</li><li>1</li><li>0</li><li>0</li><li>1</li><li>1</li><li>0</li><li>0</li><li>0</li><li>0</li><li>1</li><li>1</li><li>0</li><li>1</li><li>0</li><li>0</li><li>1</li><li>1</li><li>1</li><li>1</li><li>0</li><li>0</li><li>0</li><li>0</li><li>0</li><li>1</li><li>0</li><li>1</li><li>0</li><li>1</li><li>1</li><li>1</li><li>0</li><li>0</li><li>1</li><li>1</li><li>0</li><li>0</li><li>1</li><li>1</li><li>1</li><li>1</li><li>0</li><li>1</li><li>1</li><li>1</li><li>0</li><li>1</li><li>0</li><li>1</li><li>1</li><li>1</li><li>0</li><li>1</li><li>1</li><li>0</li><li>0</li><li>0</li><li>1</li><li>0</li><li>1</li><li>0</li><li>1</li><li>0</li><li>0</li><li>1</li><li>0</li><li>1</li><li>0</li><li>1</li><li>0</li><li>1</li><li>0</li><li>0</li><li>0</li><li>0</li><li>1</li><li>1</li><li>1</li><li>1</li><li>1</li><li>0</li></ol>\n"
            ],
            "text/markdown": "1. 1\n2. 0\n3. 0\n4. 0\n5. 1\n6. 0\n7. 1\n8. 1\n9. 1\n10. 0\n11. 1\n12. 1\n13. 1\n14. 1\n15. 1\n16. 0\n17. 0\n18. 1\n19. 1\n20. 1\n21. 0\n22. 1\n23. 1\n24. 1\n25. 0\n26. 1\n27. 0\n28. 0\n29. 0\n30. 1\n31. 0\n32. 0\n33. 1\n34. 1\n35. 1\n36. 0\n37. 0\n38. 0\n39. 1\n40. 0\n41. 1\n42. 0\n43. 1\n44. 1\n45. 1\n46. 1\n47. 0\n48. 0\n49. 1\n50. 1\n51. 1\n52. 0\n53. 0\n54. 1\n55. 0\n56. 0\n57. 0\n58. 0\n59. 0\n60. 0\n61. 0\n62. 1\n63. 1\n64. 1\n65. 0\n66. 0\n67. 0\n68. 0\n69. 0\n70. 0\n71. 0\n72. 0\n73. 0\n74. 0\n75. 0\n76. 1\n77. 0\n78. 0\n79. 0\n80. 1\n81. 1\n82. 0\n83. 1\n84. 0\n85. 1\n86. 1\n87. 1\n88. 0\n89. 0\n90. 1\n91. 0\n92. 1\n93. 0\n94. 1\n95. 0\n96. 0\n97. 1\n98. 1\n99. 1\n100. 1\n101. 1\n102. 1\n103. 1\n104. 1\n105. 0\n106. 0\n107. 0\n108. 0\n109. 1\n110. 1\n111. 0\n112. 0\n113. 0\n114. 0\n115. 1\n116. 0\n117. 1\n118. 0\n119. 1\n120. 1\n121. 0\n122. 0\n123. 1\n124. 1\n125. 0\n126. 0\n127. 0\n128. 0\n129. 1\n130. 1\n131. 0\n132. 1\n133. 0\n134. 0\n135. 1\n136. 1\n137. 1\n138. 1\n139. 0\n140. 0\n141. 0\n142. 0\n143. 0\n144. 1\n145. 0\n146. 1\n147. 0\n148. 1\n149. 1\n150. 1\n151. 0\n152. 0\n153. 1\n154. 1\n155. 0\n156. 0\n157. 1\n158. 1\n159. 1\n160. 1\n161. 0\n162. 1\n163. 1\n164. 1\n165. 0\n166. 1\n167. 0\n168. 1\n169. 1\n170. 1\n171. 0\n172. 1\n173. 1\n174. 0\n175. 0\n176. 0\n177. 1\n178. 0\n179. 1\n180. 0\n181. 1\n182. 0\n183. 0\n184. 1\n185. 0\n186. 1\n187. 0\n188. 1\n189. 0\n190. 1\n191. 0\n192. 0\n193. 0\n194. 0\n195. 1\n196. 1\n197. 1\n198. 1\n199. 1\n200. 0\n\n\n",
            "text/latex": "\\begin{enumerate*}\n\\item 1\n\\item 0\n\\item 0\n\\item 0\n\\item 1\n\\item 0\n\\item 1\n\\item 1\n\\item 1\n\\item 0\n\\item 1\n\\item 1\n\\item 1\n\\item 1\n\\item 1\n\\item 0\n\\item 0\n\\item 1\n\\item 1\n\\item 1\n\\item 0\n\\item 1\n\\item 1\n\\item 1\n\\item 0\n\\item 1\n\\item 0\n\\item 0\n\\item 0\n\\item 1\n\\item 0\n\\item 0\n\\item 1\n\\item 1\n\\item 1\n\\item 0\n\\item 0\n\\item 0\n\\item 1\n\\item 0\n\\item 1\n\\item 0\n\\item 1\n\\item 1\n\\item 1\n\\item 1\n\\item 0\n\\item 0\n\\item 1\n\\item 1\n\\item 1\n\\item 0\n\\item 0\n\\item 1\n\\item 0\n\\item 0\n\\item 0\n\\item 0\n\\item 0\n\\item 0\n\\item 0\n\\item 1\n\\item 1\n\\item 1\n\\item 0\n\\item 0\n\\item 0\n\\item 0\n\\item 0\n\\item 0\n\\item 0\n\\item 0\n\\item 0\n\\item 0\n\\item 0\n\\item 1\n\\item 0\n\\item 0\n\\item 0\n\\item 1\n\\item 1\n\\item 0\n\\item 1\n\\item 0\n\\item 1\n\\item 1\n\\item 1\n\\item 0\n\\item 0\n\\item 1\n\\item 0\n\\item 1\n\\item 0\n\\item 1\n\\item 0\n\\item 0\n\\item 1\n\\item 1\n\\item 1\n\\item 1\n\\item 1\n\\item 1\n\\item 1\n\\item 1\n\\item 0\n\\item 0\n\\item 0\n\\item 0\n\\item 1\n\\item 1\n\\item 0\n\\item 0\n\\item 0\n\\item 0\n\\item 1\n\\item 0\n\\item 1\n\\item 0\n\\item 1\n\\item 1\n\\item 0\n\\item 0\n\\item 1\n\\item 1\n\\item 0\n\\item 0\n\\item 0\n\\item 0\n\\item 1\n\\item 1\n\\item 0\n\\item 1\n\\item 0\n\\item 0\n\\item 1\n\\item 1\n\\item 1\n\\item 1\n\\item 0\n\\item 0\n\\item 0\n\\item 0\n\\item 0\n\\item 1\n\\item 0\n\\item 1\n\\item 0\n\\item 1\n\\item 1\n\\item 1\n\\item 0\n\\item 0\n\\item 1\n\\item 1\n\\item 0\n\\item 0\n\\item 1\n\\item 1\n\\item 1\n\\item 1\n\\item 0\n\\item 1\n\\item 1\n\\item 1\n\\item 0\n\\item 1\n\\item 0\n\\item 1\n\\item 1\n\\item 1\n\\item 0\n\\item 1\n\\item 1\n\\item 0\n\\item 0\n\\item 0\n\\item 1\n\\item 0\n\\item 1\n\\item 0\n\\item 1\n\\item 0\n\\item 0\n\\item 1\n\\item 0\n\\item 1\n\\item 0\n\\item 1\n\\item 0\n\\item 1\n\\item 0\n\\item 0\n\\item 0\n\\item 0\n\\item 1\n\\item 1\n\\item 1\n\\item 1\n\\item 1\n\\item 0\n\\end{enumerate*}\n",
            "text/plain": [
              "  [1] 1 0 0 0 1 0 1 1 1 0 1 1 1 1 1 0 0 1 1 1 0 1 1 1 0 1 0 0 0 1 0 0 1 1 1 0 0\n",
              " [38] 0 1 0 1 0 1 1 1 1 0 0 1 1 1 0 0 1 0 0 0 0 0 0 0 1 1 1 0 0 0 0 0 0 0 0 0 0\n",
              " [75] 0 1 0 0 0 1 1 0 1 0 1 1 1 0 0 1 0 1 0 1 0 0 1 1 1 1 1 1 1 1 0 0 0 0 1 1 0\n",
              "[112] 0 0 0 1 0 1 0 1 1 0 0 1 1 0 0 0 0 1 1 0 1 0 0 1 1 1 1 0 0 0 0 0 1 0 1 0 1\n",
              "[149] 1 1 0 0 1 1 0 0 1 1 1 1 0 1 1 1 0 1 0 1 1 1 0 1 1 0 0 0 1 0 1 0 1 0 0 1 0\n",
              "[186] 1 0 1 0 1 0 0 0 0 1 1 1 1 1 0"
            ]
          },
          "metadata": {}
        }
      ]
    },
    {
      "cell_type": "markdown",
      "source": [
        "A, B entry counts."
      ],
      "metadata": {
        "id": "OSqhSQOCV3mG"
      }
    },
    {
      "cell_type": "code",
      "source": [
        "nrow(A)\n",
        "nrow(B)"
      ],
      "metadata": {
        "id": "Tjh_UncAV1iP",
        "colab": {
          "base_uri": "https://localhost:8080/",
          "height": 52
        },
        "outputId": "ad715245-a1b1-4629-b11b-6044e1ce599f"
      },
      "execution_count": 15,
      "outputs": [
        {
          "output_type": "display_data",
          "data": {
            "text/html": [
              "16"
            ],
            "text/markdown": "16",
            "text/latex": "16",
            "text/plain": [
              "[1] 16"
            ]
          },
          "metadata": {}
        },
        {
          "output_type": "display_data",
          "data": {
            "text/html": [
              "17"
            ],
            "text/markdown": "17",
            "text/latex": "17",
            "text/plain": [
              "[1] 17"
            ]
          },
          "metadata": {}
        }
      ]
    },
    {
      "cell_type": "markdown",
      "source": [
        "1 -> A, 0 -> B."
      ],
      "metadata": {
        "id": "gV8fJvfKVhXL"
      }
    },
    {
      "cell_type": "markdown",
      "source": [
        "One-line random generation of uniform distribution deviations."
      ],
      "metadata": {
        "id": "3T0Dcu0oVxl0"
      }
    },
    {
      "cell_type": "code",
      "source": [
        "runif(1)"
      ],
      "metadata": {
        "id": "IPvowvixV8CW",
        "colab": {
          "base_uri": "https://localhost:8080/",
          "height": 34
        },
        "outputId": "1fa0ed3b-7004-4f3e-a5d9-dd595ca528cb"
      },
      "execution_count": 19,
      "outputs": [
        {
          "output_type": "display_data",
          "data": {
            "text/html": [
              "0.355999501887709"
            ],
            "text/markdown": "0.355999501887709",
            "text/latex": "0.355999501887709",
            "text/plain": [
              "[1] 0.3559995"
            ]
          },
          "metadata": {}
        }
      ]
    }
  ]
}
